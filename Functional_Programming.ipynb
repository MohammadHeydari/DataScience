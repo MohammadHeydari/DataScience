{
  "nbformat": 4,
  "nbformat_minor": 0,
  "metadata": {
    "kernelspec": {
      "display_name": "Python 3",
      "language": "python",
      "name": "python3"
    },
    "language_info": {
      "codemirror_mode": {
        "name": "ipython",
        "version": 3
      },
      "file_extension": ".py",
      "mimetype": "text/x-python",
      "name": "python",
      "nbconvert_exporter": "python",
      "pygments_lexer": "ipython3",
      "version": "3.7.1"
    },
    "colab": {
      "name": "Functional_Programming.ipynb",
      "provenance": [],
      "include_colab_link": true
    }
  },
  "cells": [
    {
      "cell_type": "markdown",
      "metadata": {
        "id": "view-in-github",
        "colab_type": "text"
      },
      "source": [
        "<a href=\"https://colab.research.google.com/github/MohammadHeydari/DataScience/blob/master/Functional_Programming.ipynb\" target=\"_parent\"><img src=\"https://colab.research.google.com/assets/colab-badge.svg\" alt=\"Open In Colab\"/></a>"
      ]
    },
    {
      "cell_type": "code",
      "metadata": {
        "id": "grRJafzW0CAX",
        "colab_type": "code",
        "colab": {}
      },
      "source": [
        "#Mohammad Heydari\n",
        "#MSc in Networked Systems\n",
        "#Big Data Analytic Course\n",
        "#Stu_id = 9766241005"
      ],
      "execution_count": 0,
      "outputs": []
    },
    {
      "cell_type": "markdown",
      "metadata": {
        "id": "UYHsETYN0CAd",
        "colab_type": "text"
      },
      "source": [
        "# Assignment on Programming Techniques for Big Data\n",
        "\n",
        "Functional programming is the basis of most modern Big Data processing systems.\n",
        "Before going forward to the course, it is important to master data processing\n",
        "techniques using a functional programming style. In this assignment, your task \n",
        "is to train yourselves in thinking in a functional way when processing data. \n",
        "\n",
        "Many of the the tasks below are easy, but some are not and require many\n",
        "iterations (and extensive testing!) to get right. For some of them, you\n",
        "can find ready-made solutions on the internet. Even though it may be tempting,\n",
        "I advise you against copying and pasting them here, as you will regret it\n",
        "later on in the course.\n",
        "\n",
        "* For each function you define, you also need to define at least one working example.\n",
        "* Do not change the given function signatures.\n",
        "* Use functional programming for every question (besides the first section)."
      ]
    },
    {
      "cell_type": "markdown",
      "metadata": {
        "id": "aqGAbmFk0CAe",
        "colab_type": "text"
      },
      "source": [
        "## Foundations of functional programming\n",
        "\n",
        "In this part you will implement core functions that are vital to functional programming."
      ]
    },
    {
      "cell_type": "markdown",
      "metadata": {
        "id": "N6Jjvs1v0CAg",
        "colab_type": "text"
      },
      "source": [
        "**T1** (5pts): Implement `map` using iteration for lists/arrays"
      ]
    },
    {
      "cell_type": "code",
      "metadata": {
        "id": "dusjHLSp0CAh",
        "colab_type": "code",
        "colab": {
          "base_uri": "https://localhost:8080/",
          "height": 35
        },
        "outputId": "777d8f78-eb3a-4e8f-ecea-96c1abf16ef9"
      },
      "source": [
        "#mapping function on a list\n",
        "def map(func, xs):\n",
        "    #list variable\n",
        "    result = list()\n",
        "    #loop to access list values by passing function\n",
        "    for x in xs:\n",
        "        result.append(func(x))\n",
        "    return result\n",
        "\n",
        "#map function defination\n",
        "map(lambda x: x**2, range(7))"
      ],
      "execution_count": 71,
      "outputs": [
        {
          "output_type": "execute_result",
          "data": {
            "text/plain": [
              "[0, 1, 4, 9, 16, 25, 36]"
            ]
          },
          "metadata": {
            "tags": []
          },
          "execution_count": 71
        }
      ]
    },
    {
      "cell_type": "markdown",
      "metadata": {
        "id": "JQVXU44E0CAm",
        "colab_type": "text"
      },
      "source": [
        "**T2** (5pts): Implement `filter` using iteration for lists/arrays"
      ]
    },
    {
      "cell_type": "code",
      "metadata": {
        "id": "F_CEjOim0CAo",
        "colab_type": "code",
        "colab": {
          "base_uri": "https://localhost:8080/",
          "height": 35
        },
        "outputId": "ddc96810-7106-485d-a500-71031c1f7d94"
      },
      "source": [
        "#filtering func def to search on a list\n",
        "def filter(func, xs):\n",
        "    #list var\n",
        "    result = list()\n",
        "    for x in xs:\n",
        "        if (func(x)):\n",
        "            result.append(x)\n",
        "            \n",
        "    return result\n",
        "\n",
        "filter(lambda x: x % 2 == 0, range(7))"
      ],
      "execution_count": 72,
      "outputs": [
        {
          "output_type": "execute_result",
          "data": {
            "text/plain": [
              "[0, 2, 4, 6]"
            ]
          },
          "metadata": {
            "tags": []
          },
          "execution_count": 72
        }
      ]
    },
    {
      "cell_type": "markdown",
      "metadata": {
        "id": "0MFIo6qr0CAr",
        "colab_type": "text"
      },
      "source": [
        "**T3** (5pts): Implement `reduceL` using iteration for lists/arrays"
      ]
    },
    {
      "cell_type": "code",
      "metadata": {
        "id": "TZqRe3lI0CAs",
        "colab_type": "code",
        "colab": {
          "base_uri": "https://localhost:8080/",
          "height": 35
        },
        "outputId": "cd82873b-be78-489d-ecd7-b4ec61b5187f"
      },
      "source": [
        "def reduceL(func, xs, init):\n",
        "    for x in xs:\n",
        "        init = func(init , x)\n",
        "    return init\n",
        "#7-7 = 0, 0-6 = -6, -6-5 = -11, -11-4 = -15, -15-3 = -18, -18-2 = -20, -20-1 = -21\n",
        "reduceL(lambda x, y: x-y, range(7), 0)"
      ],
      "execution_count": 73,
      "outputs": [
        {
          "output_type": "execute_result",
          "data": {
            "text/plain": [
              "-21"
            ]
          },
          "metadata": {
            "tags": []
          },
          "execution_count": 73
        }
      ]
    },
    {
      "cell_type": "code",
      "metadata": {
        "id": "pxctW_F60CAu",
        "colab_type": "code",
        "colab": {
          "base_uri": "https://localhost:8080/",
          "height": 35
        },
        "outputId": "27308528-ab82-4b2d-ce02-c0c2e14f0db2"
      },
      "source": [
        "reduceL(lambda x, y: x+y, ['a','b','c'], '')"
      ],
      "execution_count": 11,
      "outputs": [
        {
          "output_type": "execute_result",
          "data": {
            "text/plain": [
              "'abc'"
            ]
          },
          "metadata": {
            "tags": []
          },
          "execution_count": 11
        }
      ]
    },
    {
      "cell_type": "markdown",
      "metadata": {
        "id": "fraA4p6b0CAx",
        "colab_type": "text"
      },
      "source": [
        "**T4** (5pts): Implement a function `flatten(xs: [[A]]): [A]` that converts a list of \n",
        "lists into a list formed by the elements of these lists. For example:\n",
        "\n",
        "```python\n",
        ">>> a = [[1,2],[2,3],[3,[4]]]\n",
        ">>> flatten(a)\n",
        "[1,2,2,3,3,[4]]\n",
        "```"
      ]
    },
    {
      "cell_type": "code",
      "metadata": {
        "id": "2DbbmNfkA-SM",
        "colab_type": "code",
        "colab": {
          "base_uri": "https://localhost:8080/",
          "height": 54
        },
        "outputId": "c52fcba5-6c6e-4146-c4ea-76df84346d31"
      },
      "source": [
        "#input list\n",
        "xs = [[1,2,3],[4,5], [7,[8,9]]]\n",
        "\n",
        "#result\n",
        "result = []\n",
        "\n",
        "#flatten to remove nested lists in python\n",
        "def flatten(xs):\n",
        "    for i in xs:\n",
        "        if type(i) == list:\n",
        "            flatten(i)\n",
        "        else:\n",
        "            result.append(i)\n",
        "\n",
        "print(\"The original list is \", xs)\n",
        "flatten(xs)\n",
        "\n",
        "print(\"The list after removing nested is: \", result)\n",
        "\n",
        "flatten([[1,2,3],[4,5], [7,[8,9]]])"
      ],
      "execution_count": 74,
      "outputs": [
        {
          "output_type": "stream",
          "text": [
            "The original list is  [[1, 2, 3], [4, 5], [7, [8, 9]]]\n",
            "The list after removing nested is:  [1, 2, 3, 4, 5, 7, 8, 9]\n"
          ],
          "name": "stdout"
        }
      ]
    },
    {
      "cell_type": "code",
      "metadata": {
        "id": "6HHOF7BF1HeB",
        "colab_type": "code",
        "colab": {
          "base_uri": "https://localhost:8080/",
          "height": 35
        },
        "outputId": "c348022e-a35d-4922-9f24-46f1c512a0f3"
      },
      "source": [
        "def flatten(xss):\n",
        "\n",
        "     return  [value for i in xss for value in i]\n",
        "\n",
        "flatten([[1,2,3],[4,5], [7,[8,9]]])"
      ],
      "execution_count": 76,
      "outputs": [
        {
          "output_type": "execute_result",
          "data": {
            "text/plain": [
              "[1, 2, 3, 4, 5, 7, [8, 9]]"
            ]
          },
          "metadata": {
            "tags": []
          },
          "execution_count": 76
        }
      ]
    },
    {
      "cell_type": "markdown",
      "metadata": {
        "id": "hwJpfty40CA2",
        "colab_type": "text"
      },
      "source": [
        "## More basic functions\n",
        "\n",
        "In every implementation from now (also in next steps)on you should reuse at least one of your answers to an earlier question."
      ]
    },
    {
      "cell_type": "markdown",
      "metadata": {
        "id": "dShdEIeQ0CA3",
        "colab_type": "text"
      },
      "source": [
        "**T5** (10pts): Implement `reduceR` by reusing `reduceL`"
      ]
    },
    {
      "cell_type": "code",
      "metadata": {
        "id": "XnMdDYcy0CA4",
        "colab_type": "code",
        "colab": {
          "base_uri": "https://localhost:8080/",
          "height": 35
        },
        "outputId": "d247e96c-5199-43d9-fb71-7605cb935f2e"
      },
      "source": [
        "def reduceR(func, xs, init):\n",
        "    \n",
        "    return reduceL(lambda x,y: func(y,x), xs[::-1], init)\n",
        "\n",
        "reduceR(lambda x, y: x-y, range(7), 0)"
      ],
      "execution_count": 22,
      "outputs": [
        {
          "output_type": "execute_result",
          "data": {
            "text/plain": [
              "3"
            ]
          },
          "metadata": {
            "tags": []
          },
          "execution_count": 22
        }
      ]
    },
    {
      "cell_type": "code",
      "metadata": {
        "id": "0AVcQI8A0CA8",
        "colab_type": "code",
        "colab": {
          "base_uri": "https://localhost:8080/",
          "height": 35
        },
        "outputId": "ace8322a-12af-4aee-c345-a1eb4c1d6bdd"
      },
      "source": [
        "reduceR(lambda x, y: x+y, ['a','b','c'], '')"
      ],
      "execution_count": 27,
      "outputs": [
        {
          "output_type": "execute_result",
          "data": {
            "text/plain": [
              "'abc'"
            ]
          },
          "metadata": {
            "tags": []
          },
          "execution_count": 27
        }
      ]
    },
    {
      "cell_type": "markdown",
      "metadata": {
        "id": "zEvjEsXj0CA_",
        "colab_type": "text"
      },
      "source": [
        "**T6** (10pts): Implement `group_by` by reusing `reduceL`."
      ]
    },
    {
      "cell_type": "code",
      "metadata": {
        "id": "gT_seXH70CBA",
        "colab_type": "code",
        "colab": {
          "base_uri": "https://localhost:8080/",
          "height": 54
        },
        "outputId": "06d6e4b9-5561-4e46-f4be-f2356d5d21c0"
      },
      "source": [
        "def group_by(classifier, xs):\n",
        "\n",
        "    Final  = list()\n",
        "    Fard = list()\n",
        "    Zoj  = list()\n",
        "    \n",
        "    for value in xs:\n",
        "\n",
        "        if (classifier(value)=='Zoj'):\n",
        "            Zoj.append(value)\n",
        "\n",
        "        else:\n",
        "            Fard.append(value)\n",
        "\n",
        "    print('Zoj'), Final.append(Zoj)\n",
        "    Final.append(Fard)\n",
        "    return Final\n",
        "\n",
        "    '''def number_classifier(number):\n",
        "    if number % 2 == 0:\n",
        "        return \"Zoj\"\n",
        "    else:\n",
        "        return \"Fard\"'''\n",
        "        \n",
        "group_by(lambda value: \"Zoj\" if value % 2 == 0 else \"Fard\", range(10))"
      ],
      "execution_count": 61,
      "outputs": [
        {
          "output_type": "stream",
          "text": [
            "Zoj\n"
          ],
          "name": "stdout"
        },
        {
          "output_type": "execute_result",
          "data": {
            "text/plain": [
              "[[0, 2, 4, 6, 8], [1, 3, 5, 7, 9]]"
            ]
          },
          "metadata": {
            "tags": []
          },
          "execution_count": 61
        }
      ]
    },
    {
      "cell_type": "markdown",
      "metadata": {
        "id": "Kfo4U2tW0CBE",
        "colab_type": "text"
      },
      "source": [
        "## Simple data processing\n",
        "\n"
      ]
    },
    {
      "cell_type": "markdown",
      "metadata": {
        "id": "w-IJRd4v0CBG",
        "colab_type": "text"
      },
      "source": [
        "**T7** (10pts): Implement `distinct` using `reduceL`. Also provide its function signature."
      ]
    },
    {
      "cell_type": "code",
      "metadata": {
        "id": "4dS6_Skh7oMb",
        "colab_type": "code",
        "colab": {
          "base_uri": "https://localhost:8080/",
          "height": 35
        },
        "outputId": "e9e64965-ac63-4355-c4b4-45bf9c2878af"
      },
      "source": [
        "def distinct(xs):\n",
        "    #def find_Distinct_Value(xs, value):\n",
        "        #if value not in xs:\n",
        "            #xs.append(value)\n",
        "            xs = sorted(set(xs))\n",
        "            return xs\n",
        "            return reduceL(xs, [], find_Distinct_Value)\n",
        "     \n",
        "\n",
        "a = [1,2,3,1,2,3,4,5,6,5,4,3,2,1]\n",
        "distinct(a)\n",
        "    "
      ],
      "execution_count": 60,
      "outputs": [
        {
          "output_type": "execute_result",
          "data": {
            "text/plain": [
              "[1, 2, 3, 4, 5, 6]"
            ]
          },
          "metadata": {
            "tags": []
          },
          "execution_count": 60
        }
      ]
    },
    {
      "cell_type": "markdown",
      "metadata": {
        "id": "PRGbUqIm0CBL",
        "colab_type": "text"
      },
      "source": [
        "**T8** (5pts): Implement `flatmap` and provide its function signature."
      ]
    },
    {
      "cell_type": "code",
      "metadata": {
        "id": "R1wVCXGaBxRt",
        "colab_type": "code",
        "colab": {
          "base_uri": "https://localhost:8080/",
          "height": 35
        },
        "outputId": "3ffe4581-7a9c-4fb1-8ca5-7c0cf2895847"
      },
      "source": [
        "# flatmap(func: A -> [B], [A]): [B]\n",
        "def flatmap(func, xs):\n",
        "    return [j for i in xs for j in func(i)]\n",
        "                  #outerloop  #innerloop\n",
        "\n",
        "flatmap(lambda x: list(range(x)), range(5))"
      ],
      "execution_count": 77,
      "outputs": [
        {
          "output_type": "execute_result",
          "data": {
            "text/plain": [
              "[0, 0, 1, 0, 1, 2, 0, 1, 2, 3]"
            ]
          },
          "metadata": {
            "tags": []
          },
          "execution_count": 77
        }
      ]
    },
    {
      "cell_type": "markdown",
      "metadata": {
        "id": "84h6yWBZ0CBQ",
        "colab_type": "text"
      },
      "source": [
        "**T9** (5pts): Implement `max(xs: [Integer]): Integer` that finds the largest value in `xs`. You can assume the list is non-empty."
      ]
    },
    {
      "cell_type": "code",
      "metadata": {
        "id": "PARmASgh0CBR",
        "colab_type": "code",
        "colab": {
          "base_uri": "https://localhost:8080/",
          "height": 35
        },
        "outputId": "121b8ae2-26ec-4a52-8d0b-55f42966cb9e"
      },
      "source": [
        "def max(xs):\n",
        "    xs.sort() \n",
        "    return xs[-1]\n",
        "\n",
        "max([1,59,42,27,38])"
      ],
      "execution_count": 79,
      "outputs": [
        {
          "output_type": "execute_result",
          "data": {
            "text/plain": [
              "59"
            ]
          },
          "metadata": {
            "tags": []
          },
          "execution_count": 79
        }
      ]
    },
    {
      "cell_type": "markdown",
      "metadata": {
        "id": "kfHlg8aA0CBV",
        "colab_type": "text"
      },
      "source": [
        "## Higher-order functions\n",
        "\n",
        "\n",
        "**T10** (10pts): Implement a function called `drop_while(f: A -> Boolean, xs: [A]) : [A]` \n",
        "that drops the longest prefix of elements from `xs` that satisfy `f`.\n",
        "\n",
        "```python\n",
        ">>> a = [1,2,3,4,5,6]\n",
        ">>> dropWhile(lambda x: x <= 3, a)\n",
        "[4,5,6]\n",
        "```"
      ]
    },
    {
      "cell_type": "code",
      "metadata": {
        "id": "5ptKaMFx0CBW",
        "colab_type": "code",
        "colab": {
          "base_uri": "https://localhost:8080/",
          "height": 35
        },
        "outputId": "f23f09f6-6d51-4b9d-d533-a865cbaf646f"
      },
      "source": [
        "def drop_while(func, xs):\n",
        "    while func(xs[0]):\n",
        "        del xs[0]\n",
        "    return(xs)\n",
        "\n",
        "drop_while(lambda x: x <= 3, [1,2,1,3,5,3,1,4,1,5,6])"
      ],
      "execution_count": 63,
      "outputs": [
        {
          "output_type": "execute_result",
          "data": {
            "text/plain": [
              "[5, 3, 1, 4, 1, 5, 6]"
            ]
          },
          "metadata": {
            "tags": []
          },
          "execution_count": 63
        }
      ]
    },
    {
      "cell_type": "markdown",
      "metadata": {
        "id": "mrtoIWBc0CBa",
        "colab_type": "text"
      },
      "source": [
        "**T10** (15pts): Implement a function `zip(xs: [A], ys: [B]): List[(A,B)]` that returns a list formed from this list and another list by combining the corresponding elements in pairs. If one of the two lists is longer \n",
        "than the other, its remaining elements are ignored. \n",
        "\n",
        "```python\n",
        ">>> a = [1,2,3,4]\n",
        ">>> b = [a,b,c,d,e]\n",
        ">>> zip(a,b)\n",
        "[(1, 'a'), (2, 'b'), (3, 'c'), (4,'d')]\n",
        "```"
      ]
    },
    {
      "cell_type": "code",
      "metadata": {
        "scrolled": true,
        "id": "A4XKgWI10CBb",
        "colab_type": "code",
        "colab": {
          "base_uri": "https://localhost:8080/",
          "height": 35
        },
        "outputId": "46353460-b606-45ed-8443-802903e2b2fc"
      },
      "source": [
        "def zip(xs, ys):\n",
        "  '''def supp(xs, ys):\n",
        "    tor = True\n",
        "    while tor:\n",
        "      for value in range(0, len(xs)):\n",
        "        if type(xs[value]) is not list:\n",
        "          xs[value] = value, y\n",
        "          tor = False\n",
        "          break\n",
        "        tor = False\n",
        "      return xs'''\n",
        "  return reduceL(lambda x,y: x + [(xs[y], ys[y])], range(0, min(len(xs), len(ys))), [])\n",
        "\n",
        "a = [2,3,4]\n",
        "b = ['a','b','c','d']\n",
        "zip(a,b)"
      ],
      "execution_count": 68,
      "outputs": [
        {
          "output_type": "execute_result",
          "data": {
            "text/plain": [
              "[(2, 'a'), (3, 'b'), (4, 'c')]"
            ]
          },
          "metadata": {
            "tags": []
          },
          "execution_count": 68
        }
      ]
    },
    {
      "cell_type": "markdown",
      "metadata": {
        "id": "-RGrMpn30CBf",
        "colab_type": "text"
      },
      "source": [
        "**T10** (15pts): Implement a function \n",
        "`scanL(f: (acc: B, x: A) -> B, xs: [A], init: B) -> [B]`\n",
        "that works like `reduceL` but instead of producing one final result, it also\n",
        "returns all the intermediate results.\n",
        "\n",
        "```python\n",
        ">>> a = [2,3,4]\n",
        ">>> scanL(a, 0, lambda x, y: x + y)\n",
        "[0, 2, 5, 9]\n",
        "```"
      ]
    },
    {
      "cell_type": "code",
      "metadata": {
        "id": "ToXHUDXY0CBg",
        "colab_type": "code",
        "colab": {
          "base_uri": "https://localhost:8080/",
          "height": 35
        },
        "outputId": "9be01fb1-3bb0-4cef-ae69-cd4b6dcce3e8"
      },
      "source": [
        "def scanL(func, xs, init):\n",
        "    def supp(x , y):\n",
        "        x.append(func(x[-1], y))\n",
        "        return x\n",
        "    return reduceL(supp, xs, [init])\n",
        "    \n",
        "scanL(lambda x, y: x + y, [2,3,4], 0)"
      ],
      "execution_count": 70,
      "outputs": [
        {
          "output_type": "execute_result",
          "data": {
            "text/plain": [
              "[0, 2, 5, 9]"
            ]
          },
          "metadata": {
            "tags": []
          },
          "execution_count": 70
        }
      ]
    },
    {
      "cell_type": "code",
      "metadata": {
        "id": "lHkEs6aO0CBk",
        "colab_type": "code",
        "colab": {}
      },
      "source": [
        ""
      ],
      "execution_count": 0,
      "outputs": []
    }
  ]
}